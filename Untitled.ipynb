{
 "cells": [
  {
   "cell_type": "code",
   "execution_count": 1,
   "id": "abe23d7d",
   "metadata": {},
   "outputs": [],
   "source": [
    "import configparser\n",
    "import json\n",
    "\n",
    "from telethon import TelegramClient\n",
    "from telethon.errors import SessionPasswordNeededError"
   ]
  },
  {
   "cell_type": "code",
   "execution_count": 2,
   "id": "a6923538",
   "metadata": {},
   "outputs": [],
   "source": [
    "# Reading Configs\n",
    "config = configparser.ConfigParser()\n",
    "config.read(\"config.ini\")\n",
    "\n",
    "# Setting configuration values\n",
    "api_id = config['Telegram']['api_id']\n",
    "api_hash = config['Telegram']['api_hash']\n",
    "\n",
    "api_hash = str(api_hash)\n",
    "\n",
    "phone = config['Telegram']['phone']\n",
    "username = config['Telegram']['username']"
   ]
  },
  {
   "cell_type": "code",
   "execution_count": 3,
   "id": "825d45fe",
   "metadata": {},
   "outputs": [
    {
     "ename": "RuntimeError",
     "evalue": "You must use \"async with\" if the event loop is running (i.e. you are inside an \"async def\")",
     "output_type": "error",
     "traceback": [
      "\u001b[0;31m---------------------------------------------------------------------------\u001b[0m",
      "\u001b[0;31mRuntimeError\u001b[0m                              Traceback (most recent call last)",
      "\u001b[0;32m/var/folders/pb/r5wwjrrx6pgcb5svvch80g_c0000gn/T/ipykernel_22061/4261860126.py\u001b[0m in \u001b[0;36m<module>\u001b[0;34m\u001b[0m\n\u001b[1;32m      1\u001b[0m \u001b[0mchat\u001b[0m \u001b[0;34m=\u001b[0m \u001b[0;34m'me'\u001b[0m\u001b[0;34m\u001b[0m\u001b[0;34m\u001b[0m\u001b[0m\n\u001b[0;32m----> 2\u001b[0;31m \u001b[0;32mwith\u001b[0m \u001b[0mTelegramClient\u001b[0m\u001b[0;34m(\u001b[0m\u001b[0musername\u001b[0m\u001b[0;34m,\u001b[0m \u001b[0mapi_id\u001b[0m\u001b[0;34m,\u001b[0m \u001b[0mapi_hash\u001b[0m\u001b[0;34m)\u001b[0m \u001b[0;32mas\u001b[0m \u001b[0mclient\u001b[0m\u001b[0;34m:\u001b[0m\u001b[0;34m\u001b[0m\u001b[0;34m\u001b[0m\u001b[0m\n\u001b[0m\u001b[1;32m      3\u001b[0m     \u001b[0;32mfor\u001b[0m \u001b[0mmessage\u001b[0m \u001b[0;32min\u001b[0m \u001b[0mclient\u001b[0m\u001b[0;34m.\u001b[0m\u001b[0miter_messages\u001b[0m\u001b[0;34m(\u001b[0m\u001b[0mchat\u001b[0m\u001b[0;34m)\u001b[0m\u001b[0;34m:\u001b[0m\u001b[0;34m\u001b[0m\u001b[0;34m\u001b[0m\u001b[0m\n\u001b[1;32m      4\u001b[0m         \u001b[0mprint\u001b[0m\u001b[0;34m(\u001b[0m\u001b[0mmessage\u001b[0m\u001b[0;34m.\u001b[0m\u001b[0msender_id\u001b[0m\u001b[0;34m,\u001b[0m \u001b[0;34m':'\u001b[0m\u001b[0;34m,\u001b[0m \u001b[0mmessage\u001b[0m\u001b[0;34m.\u001b[0m\u001b[0mtext\u001b[0m\u001b[0;34m)\u001b[0m\u001b[0;34m\u001b[0m\u001b[0;34m\u001b[0m\u001b[0m\n",
      "\u001b[0;32m~/opt/anaconda3/lib/python3.9/site-packages/telethon/helpers.py\u001b[0m in \u001b[0;36m_sync_enter\u001b[0;34m(self)\u001b[0m\n\u001b[1;32m    212\u001b[0m \u001b[0;34m\u001b[0m\u001b[0m\n\u001b[1;32m    213\u001b[0m     \u001b[0;32mif\u001b[0m \u001b[0mloop\u001b[0m\u001b[0;34m.\u001b[0m\u001b[0mis_running\u001b[0m\u001b[0;34m(\u001b[0m\u001b[0;34m)\u001b[0m\u001b[0;34m:\u001b[0m\u001b[0;34m\u001b[0m\u001b[0;34m\u001b[0m\u001b[0m\n\u001b[0;32m--> 214\u001b[0;31m         raise RuntimeError(\n\u001b[0m\u001b[1;32m    215\u001b[0m             \u001b[0;34m'You must use \"async with\" if the event loop '\u001b[0m\u001b[0;34m\u001b[0m\u001b[0;34m\u001b[0m\u001b[0m\n\u001b[1;32m    216\u001b[0m             \u001b[0;34m'is running (i.e. you are inside an \"async def\")'\u001b[0m\u001b[0;34m\u001b[0m\u001b[0;34m\u001b[0m\u001b[0m\n",
      "\u001b[0;31mRuntimeError\u001b[0m: You must use \"async with\" if the event loop is running (i.e. you are inside an \"async def\")"
     ]
    }
   ],
   "source": [
    "chat = 'me'\n",
    "with TelegramClient(username, api_id, api_hash) as client:\n",
    "    for message in client.iter_messages(chat):\n",
    "        print(message.sender_id, ':', message.text)"
   ]
  },
  {
   "cell_type": "code",
   "execution_count": 4,
   "id": "5ad3ae71",
   "metadata": {},
   "outputs": [
    {
     "ename": "RuntimeError",
     "evalue": "asyncio.run() cannot be called from a running event loop",
     "output_type": "error",
     "traceback": [
      "\u001b[0;31m---------------------------------------------------------------------------\u001b[0m",
      "\u001b[0;31mRuntimeError\u001b[0m                              Traceback (most recent call last)",
      "\u001b[0;32m/var/folders/pb/r5wwjrrx6pgcb5svvch80g_c0000gn/T/ipykernel_22061/2531433217.py\u001b[0m in \u001b[0;36m<module>\u001b[0;34m\u001b[0m\n\u001b[1;32m      8\u001b[0m         \u001b[0;32mreturn\u001b[0m\u001b[0;34m(\u001b[0m\u001b[0mresult\u001b[0m\u001b[0;34m)\u001b[0m\u001b[0;34m\u001b[0m\u001b[0;34m\u001b[0m\u001b[0m\n\u001b[1;32m      9\u001b[0m \u001b[0;34m\u001b[0m\u001b[0m\n\u001b[0;32m---> 10\u001b[0;31m \u001b[0mout\u001b[0m \u001b[0;34m=\u001b[0m \u001b[0mrun\u001b[0m\u001b[0;34m(\u001b[0m\u001b[0mchannel_info\u001b[0m\u001b[0;34m(\u001b[0m\u001b[0;34m'durov'\u001b[0m\u001b[0;34m,\u001b[0m \u001b[0mapi_id\u001b[0m\u001b[0;34m,\u001b[0m \u001b[0mapi_hash\u001b[0m\u001b[0;34m)\u001b[0m\u001b[0;34m)\u001b[0m\u001b[0;34m\u001b[0m\u001b[0;34m\u001b[0m\u001b[0m\n\u001b[0m\u001b[1;32m     11\u001b[0m \u001b[0mprint\u001b[0m\u001b[0;34m(\u001b[0m\u001b[0mout\u001b[0m\u001b[0;34m)\u001b[0m\u001b[0;34m\u001b[0m\u001b[0;34m\u001b[0m\u001b[0m\n",
      "\u001b[0;32m~/opt/anaconda3/lib/python3.9/asyncio/runners.py\u001b[0m in \u001b[0;36mrun\u001b[0;34m(main, debug)\u001b[0m\n\u001b[1;32m     31\u001b[0m     \"\"\"\n\u001b[1;32m     32\u001b[0m     \u001b[0;32mif\u001b[0m \u001b[0mevents\u001b[0m\u001b[0;34m.\u001b[0m\u001b[0m_get_running_loop\u001b[0m\u001b[0;34m(\u001b[0m\u001b[0;34m)\u001b[0m \u001b[0;32mis\u001b[0m \u001b[0;32mnot\u001b[0m \u001b[0;32mNone\u001b[0m\u001b[0;34m:\u001b[0m\u001b[0;34m\u001b[0m\u001b[0;34m\u001b[0m\u001b[0m\n\u001b[0;32m---> 33\u001b[0;31m         raise RuntimeError(\n\u001b[0m\u001b[1;32m     34\u001b[0m             \"asyncio.run() cannot be called from a running event loop\")\n\u001b[1;32m     35\u001b[0m \u001b[0;34m\u001b[0m\u001b[0m\n",
      "\u001b[0;31mRuntimeError\u001b[0m: asyncio.run() cannot be called from a running event loop"
     ]
    }
   ],
   "source": [
    "from asyncio import run\n",
    "\n",
    "async def channel_info(username, api_id, api_hash):\n",
    "    async with TelegramClient('session', api_id, api_hash) as client:\n",
    "        result = await client(functions.channels.GetFullChannelRequest(\n",
    "            channel=username\n",
    "        ))\n",
    "        return(result)\n",
    "\n",
    "out = run(channel_info('durov', api_id, api_hash))\n",
    "print(out)"
   ]
  },
  {
   "cell_type": "code",
   "execution_count": null,
   "id": "89378a69",
   "metadata": {},
   "outputs": [],
   "source": [
    "# Create the client and connect\n",
    "client = TelegramClient(username, api_id, api_hash)\n",
    "client.start()\n",
    "print(\"Client Created\")\n",
    "# Ensure you're authorized\n",
    "if not client.is_user_authorized():\n",
    "    client.send_code_request(phone)\n",
    "    try:\n",
    "        client.sign_in(phone, input('Enter the code: '))\n",
    "    except SessionPasswordNeededError:\n",
    "        client.sign_in(password=input('Password: '))"
   ]
  },
  {
   "cell_type": "code",
   "execution_count": null,
   "id": "679552cf",
   "metadata": {},
   "outputs": [],
   "source": [
    "from telethon.tl.functions.channels import GetParticipantsRequest\n",
    "from telethon.tl.types import ChannelParticipantsSearch\n",
    "from telethon.tl.types import (\n",
    "PeerChannel\n",
    ")"
   ]
  },
  {
   "cell_type": "code",
   "execution_count": null,
   "id": "265dcef9",
   "metadata": {},
   "outputs": [],
   "source": [
    "user_input_channel = input(\"enter entity(telegram URL or entity id):\")\n",
    "\n",
    "if user_input_channel.isdigit():\n",
    "    entity = PeerChannel(int(user_input_channel))\n",
    "else:\n",
    "    entity = user_input_channel\n",
    "\n",
    "my_channel = client.get_entity(entity)"
   ]
  },
  {
   "cell_type": "code",
   "execution_count": null,
   "id": "01be1288",
   "metadata": {},
   "outputs": [],
   "source": [
    "\n",
    "offset = 0\n",
    "limit = 100\n",
    "all_participants = []\n",
    "\n",
    "while True:\n",
    "    participants = client(GetParticipantsRequest(\n",
    "        my_channel, ChannelParticipantsSearch(''), offset, limit,\n",
    "        hash=0\n",
    "    ))\n",
    "    if not participants.users:\n",
    "        break\n",
    "    all_participants.extend(participants.users)\n",
    "    offset += len(participants.users)"
   ]
  },
  {
   "cell_type": "code",
   "execution_count": null,
   "id": "8650f8cc",
   "metadata": {},
   "outputs": [],
   "source": [
    "from telethon.tl.functions.messages import (GetHistoryRequest)\n",
    "from telethon.tl.types import (\n",
    "PeerChannel\n",
    ")\n",
    "\n",
    "offset_id = 0\n",
    "limit = 100\n",
    "all_messages = []\n",
    "total_messages = 0\n",
    "total_count_limit = 0\n",
    "\n",
    "while True:\n",
    "    print(\"Current Offset ID is:\", offset_id, \"; Total Messages:\", total_messages)\n",
    "    history = await client(GetHistoryRequest(\n",
    "        peer=my_channel,\n",
    "        offset_id=offset_id,\n",
    "        offset_date=None,\n",
    "        add_offset=0,\n",
    "        limit=limit,\n",
    "        max_id=0,\n",
    "        min_id=0,\n",
    "        hash=0\n",
    "    ))\n",
    "    if not history.messages:\n",
    "        break\n",
    "    messages = history.messages\n",
    "    for message in messages:\n",
    "        all_messages.append(message.to_dict())\n",
    "    offset_id = messages[len(messages) - 1].id\n",
    "    total_messages = len(all_messages)\n",
    "    if total_count_limit != 0 and total_messages >= total_count_limit:\n",
    "        break\n",
    "        "
   ]
  },
  {
   "cell_type": "code",
   "execution_count": null,
   "id": "81531d60",
   "metadata": {},
   "outputs": [],
   "source": [
    "client.disconnect()"
   ]
  },
  {
   "cell_type": "code",
   "execution_count": 2,
   "id": "79a52829",
   "metadata": {},
   "outputs": [],
   "source": [
    "f = open('tags.txt', 'r')\n",
    "tags = f.readlines()\n",
    "tags = [x[:-1].lower() for x in tags]\n",
    "f.close()"
   ]
  },
  {
   "cell_type": "code",
   "execution_count": 6,
   "id": "24aee820",
   "metadata": {},
   "outputs": [
    {
     "data": {
      "text/plain": [
       "['ктж',\n",
       " 'казтемиртранс',\n",
       " 'миир рк',\n",
       " 'ржд',\n",
       " 'ставки аренды на подвижной состав',\n",
       " 'железная дорога',\n",
       " 'вагон',\n",
       " 'полувагон',\n",
       " 'крытый вагон',\n",
       " 'платформа',\n",
       " 'энергетика',\n",
       " 'уголь',\n",
       " 'руда',\n",
       " 'газ',\n",
       " 'зерно',\n",
       " 'продукты перемола',\n",
       " 'сахар',\n",
       " 'север-юг',\n",
       " 'тмт']"
      ]
     },
     "execution_count": 6,
     "metadata": {},
     "output_type": "execute_result"
    }
   ],
   "source": []
  },
  {
   "cell_type": "code",
   "execution_count": null,
   "id": "1effb73d",
   "metadata": {},
   "outputs": [],
   "source": []
  }
 ],
 "metadata": {
  "kernelspec": {
   "display_name": "Python 3 (ipykernel)",
   "language": "python",
   "name": "python3"
  },
  "language_info": {
   "codemirror_mode": {
    "name": "ipython",
    "version": 3
   },
   "file_extension": ".py",
   "mimetype": "text/x-python",
   "name": "python",
   "nbconvert_exporter": "python",
   "pygments_lexer": "ipython3",
   "version": "3.9.13"
  }
 },
 "nbformat": 4,
 "nbformat_minor": 5
}
